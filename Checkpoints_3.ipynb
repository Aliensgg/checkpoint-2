{
  "nbformat": 4,
  "nbformat_minor": 0,
  "metadata": {
    "colab": {
      "name": "Checkpoints 3",
      "provenance": []
    },
    "kernelspec": {
      "name": "python3",
      "display_name": "Python 3"
    },
    "language_info": {
      "name": "python"
    }
  },
  "cells": [
    {
      "cell_type": "code",
      "source": [
        "m=1\n",
        "for el  in my_list :\n",
        "  m=m*el\n",
        "print(m)"
      ],
      "metadata": {
        "colab": {
          "base_uri": "https://localhost:8080/"
        },
        "id": "O56LxykEfYL5",
        "outputId": "736be972-8a05-4ce3-ea38-67cce2b5a598"
      },
      "execution_count": 3,
      "outputs": [
        {
          "output_type": "stream",
          "name": "stdout",
          "text": [
            "15120\n"
          ]
        }
      ]
    },
    {
      "cell_type": "code",
      "source": [
        "maliste= [(2,5),(1,2),(4,4),(2,3),(2,1)]\n",
        "maliste.sort()\n",
        "print(maliste)"
      ],
      "metadata": {
        "colab": {
          "base_uri": "https://localhost:8080/"
        },
        "id": "P7JMkOHQfYOj",
        "outputId": "b63d09ec-47be-472a-90d0-640231a0ffdd"
      },
      "execution_count": 5,
      "outputs": [
        {
          "output_type": "stream",
          "name": "stdout",
          "text": [
            "[(1, 2), (2, 1), (2, 3), (2, 5), (4, 4)]\n"
          ]
        }
      ]
    },
    {
      "cell_type": "code",
      "source": [
        "d1 = {\"a\":100 , \"b\":200 , \"c\" : 300}\n",
        "d2 = {\"a\":300, \"b\":200 , \"d\":300}\n",
        "d3={}\n",
        "for i in d1:\n",
        "  if i in d2:\n",
        "    d3[i]=d1[i]+d2[i]\n",
        "  else:\n",
        "     d3[i]=d1[i]\n",
        "for i in d2:\n",
        "  if i not in d1:\n",
        "    d3[i]=d2[i]\n",
        "print (d3)\n",
        "\n",
        "\n",
        "   \n",
        "   \n",
        "     \n",
        "    \n"
      ],
      "metadata": {
        "colab": {
          "base_uri": "https://localhost:8080/"
        },
        "id": "lBsuFFWAfYRl",
        "outputId": "5a644813-bcaf-475d-c0e8-15e64d34cb1a"
      },
      "execution_count": 18,
      "outputs": [
        {
          "output_type": "stream",
          "name": "stdout",
          "text": [
            "{'a': 400, 'b': 400, 'c': 300, 'd': 300}\n"
          ]
        }
      ]
    },
    {
      "cell_type": "code",
      "source": [
        "x= int(input(\"entrer la valeur\"))\n",
        "d1={}\n",
        "for i in range(1,x+1):\n",
        "\n",
        "  d1[i]= i*i\n",
        "print (d1)"
      ],
      "metadata": {
        "colab": {
          "base_uri": "https://localhost:8080/"
        },
        "id": "GIQbzVp3mwA5",
        "outputId": "bc6d3d41-c6ea-48c1-8b35-7dd0e80aa21e"
      },
      "execution_count": 28,
      "outputs": [
        {
          "output_type": "stream",
          "name": "stdout",
          "text": [
            "entrer la valeur5\n",
            "{1: 1, 2: 4, 3: 9, 4: 16, 5: 25}\n"
          ]
        }
      ]
    },
    {
      "cell_type": "code",
      "source": [
        ""
      ],
      "metadata": {
        "id": "0SXt9AA3thj9"
      },
      "execution_count": null,
      "outputs": []
    }
  ]
}