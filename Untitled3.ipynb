{
  "nbformat": 4,
  "nbformat_minor": 0,
  "metadata": {
    "colab": {
      "name": "Untitled3.ipynb",
      "provenance": []
    },
    "kernelspec": {
      "name": "python3",
      "display_name": "Python 3"
    },
    "language_info": {
      "name": "python"
    }
  },
  "cells": [
    {
      "cell_type": "code",
      "execution_count": 5,
      "metadata": {
        "colab": {
          "base_uri": "https://localhost:8080/"
        },
        "id": "GnBoC88ozljc",
        "outputId": "65b45a3a-8e76-47b5-fbcf-fe8632ccf545"
      },
      "outputs": [
        {
          "output_type": "stream",
          "name": "stdout",
          "text": [
            "first name adem\n",
            "last name Chader\n",
            " Chader  adem\n"
          ]
        }
      ],
      "source": [
        "First_name = input(\"first name\")\n",
        "Last_name= input(\"last name\")\n",
        "print(Last_name , First_name)"
      ]
    },
    {
      "cell_type": "code",
      "source": [
        "n= int(input(\"enter number\"))\n",
        "print(\"(\",n,\"+\",str(n)+str(n),\"+\", str(n)+str(n)+str(n),\")\",n+(n+n*10)+(n+n*10+n*100) ) \n"
      ],
      "metadata": {
        "colab": {
          "base_uri": "https://localhost:8080/"
        },
        "id": "LJ7lhxc80stL",
        "outputId": "eee14ac3-e6b6-43b2-f9c8-a3625dcc0224"
      },
      "execution_count": 19,
      "outputs": [
        {
          "output_type": "stream",
          "name": "stdout",
          "text": [
            "enter number5\n",
            "( 5 + 55 + 555 ) 615\n"
          ]
        }
      ]
    },
    {
      "cell_type": "code",
      "source": [
        "x= int(input(\"enter a number\"))\n",
        "if x%2 == 0:\n",
        "  print(\"the number is even\")\n",
        "else:\n",
        "  print(\"the number is odd\")"
      ],
      "metadata": {
        "id": "5yv8IuYS6AJh",
        "outputId": "461c2ec9-a1b2-4989-8f14-6053e05a19e3",
        "colab": {
          "base_uri": "https://localhost:8080/"
        }
      },
      "execution_count": 25,
      "outputs": [
        {
          "output_type": "stream",
          "name": "stdout",
          "text": [
            "enter a number8\n",
            "the number is even\n"
          ]
        }
      ]
    },
    {
      "cell_type": "code",
      "source": [
        "for val in range(2000,3200):\n",
        "   if val%7 == 0 and val%5 != 0:\n",
        "       print(val,\"this number is divisible by 7but are not a multiple of 5\")\n",
        "\n"
      ],
      "metadata": {
        "id": "TXz3O9YA76Gn",
        "outputId": "914529f8-3ebd-4444-ef25-5555c28f741c",
        "colab": {
          "base_uri": "https://localhost:8080/"
        }
      },
      "execution_count": 31,
      "outputs": [
        {
          "output_type": "stream",
          "name": "stdout",
          "text": [
            "2002 this number is divisible by 7but are not a multiple of 5\n",
            "2009 this number is divisible by 7but are not a multiple of 5\n",
            "2016 this number is divisible by 7but are not a multiple of 5\n",
            "2023 this number is divisible by 7but are not a multiple of 5\n",
            "2037 this number is divisible by 7but are not a multiple of 5\n",
            "2044 this number is divisible by 7but are not a multiple of 5\n",
            "2051 this number is divisible by 7but are not a multiple of 5\n",
            "2058 this number is divisible by 7but are not a multiple of 5\n",
            "2072 this number is divisible by 7but are not a multiple of 5\n",
            "2079 this number is divisible by 7but are not a multiple of 5\n",
            "2086 this number is divisible by 7but are not a multiple of 5\n",
            "2093 this number is divisible by 7but are not a multiple of 5\n",
            "2107 this number is divisible by 7but are not a multiple of 5\n",
            "2114 this number is divisible by 7but are not a multiple of 5\n",
            "2121 this number is divisible by 7but are not a multiple of 5\n",
            "2128 this number is divisible by 7but are not a multiple of 5\n",
            "2142 this number is divisible by 7but are not a multiple of 5\n",
            "2149 this number is divisible by 7but are not a multiple of 5\n",
            "2156 this number is divisible by 7but are not a multiple of 5\n",
            "2163 this number is divisible by 7but are not a multiple of 5\n",
            "2177 this number is divisible by 7but are not a multiple of 5\n",
            "2184 this number is divisible by 7but are not a multiple of 5\n",
            "2191 this number is divisible by 7but are not a multiple of 5\n",
            "2198 this number is divisible by 7but are not a multiple of 5\n",
            "2212 this number is divisible by 7but are not a multiple of 5\n",
            "2219 this number is divisible by 7but are not a multiple of 5\n",
            "2226 this number is divisible by 7but are not a multiple of 5\n",
            "2233 this number is divisible by 7but are not a multiple of 5\n",
            "2247 this number is divisible by 7but are not a multiple of 5\n",
            "2254 this number is divisible by 7but are not a multiple of 5\n",
            "2261 this number is divisible by 7but are not a multiple of 5\n",
            "2268 this number is divisible by 7but are not a multiple of 5\n",
            "2282 this number is divisible by 7but are not a multiple of 5\n",
            "2289 this number is divisible by 7but are not a multiple of 5\n",
            "2296 this number is divisible by 7but are not a multiple of 5\n",
            "2303 this number is divisible by 7but are not a multiple of 5\n",
            "2317 this number is divisible by 7but are not a multiple of 5\n",
            "2324 this number is divisible by 7but are not a multiple of 5\n",
            "2331 this number is divisible by 7but are not a multiple of 5\n",
            "2338 this number is divisible by 7but are not a multiple of 5\n",
            "2352 this number is divisible by 7but are not a multiple of 5\n",
            "2359 this number is divisible by 7but are not a multiple of 5\n",
            "2366 this number is divisible by 7but are not a multiple of 5\n",
            "2373 this number is divisible by 7but are not a multiple of 5\n",
            "2387 this number is divisible by 7but are not a multiple of 5\n",
            "2394 this number is divisible by 7but are not a multiple of 5\n",
            "2401 this number is divisible by 7but are not a multiple of 5\n",
            "2408 this number is divisible by 7but are not a multiple of 5\n",
            "2422 this number is divisible by 7but are not a multiple of 5\n",
            "2429 this number is divisible by 7but are not a multiple of 5\n",
            "2436 this number is divisible by 7but are not a multiple of 5\n",
            "2443 this number is divisible by 7but are not a multiple of 5\n",
            "2457 this number is divisible by 7but are not a multiple of 5\n",
            "2464 this number is divisible by 7but are not a multiple of 5\n",
            "2471 this number is divisible by 7but are not a multiple of 5\n",
            "2478 this number is divisible by 7but are not a multiple of 5\n",
            "2492 this number is divisible by 7but are not a multiple of 5\n",
            "2499 this number is divisible by 7but are not a multiple of 5\n",
            "2506 this number is divisible by 7but are not a multiple of 5\n",
            "2513 this number is divisible by 7but are not a multiple of 5\n",
            "2527 this number is divisible by 7but are not a multiple of 5\n",
            "2534 this number is divisible by 7but are not a multiple of 5\n",
            "2541 this number is divisible by 7but are not a multiple of 5\n",
            "2548 this number is divisible by 7but are not a multiple of 5\n",
            "2562 this number is divisible by 7but are not a multiple of 5\n",
            "2569 this number is divisible by 7but are not a multiple of 5\n",
            "2576 this number is divisible by 7but are not a multiple of 5\n",
            "2583 this number is divisible by 7but are not a multiple of 5\n",
            "2597 this number is divisible by 7but are not a multiple of 5\n",
            "2604 this number is divisible by 7but are not a multiple of 5\n",
            "2611 this number is divisible by 7but are not a multiple of 5\n",
            "2618 this number is divisible by 7but are not a multiple of 5\n",
            "2632 this number is divisible by 7but are not a multiple of 5\n",
            "2639 this number is divisible by 7but are not a multiple of 5\n",
            "2646 this number is divisible by 7but are not a multiple of 5\n",
            "2653 this number is divisible by 7but are not a multiple of 5\n",
            "2667 this number is divisible by 7but are not a multiple of 5\n",
            "2674 this number is divisible by 7but are not a multiple of 5\n",
            "2681 this number is divisible by 7but are not a multiple of 5\n",
            "2688 this number is divisible by 7but are not a multiple of 5\n",
            "2702 this number is divisible by 7but are not a multiple of 5\n",
            "2709 this number is divisible by 7but are not a multiple of 5\n",
            "2716 this number is divisible by 7but are not a multiple of 5\n",
            "2723 this number is divisible by 7but are not a multiple of 5\n",
            "2737 this number is divisible by 7but are not a multiple of 5\n",
            "2744 this number is divisible by 7but are not a multiple of 5\n",
            "2751 this number is divisible by 7but are not a multiple of 5\n",
            "2758 this number is divisible by 7but are not a multiple of 5\n",
            "2772 this number is divisible by 7but are not a multiple of 5\n",
            "2779 this number is divisible by 7but are not a multiple of 5\n",
            "2786 this number is divisible by 7but are not a multiple of 5\n",
            "2793 this number is divisible by 7but are not a multiple of 5\n",
            "2807 this number is divisible by 7but are not a multiple of 5\n",
            "2814 this number is divisible by 7but are not a multiple of 5\n",
            "2821 this number is divisible by 7but are not a multiple of 5\n",
            "2828 this number is divisible by 7but are not a multiple of 5\n",
            "2842 this number is divisible by 7but are not a multiple of 5\n",
            "2849 this number is divisible by 7but are not a multiple of 5\n",
            "2856 this number is divisible by 7but are not a multiple of 5\n",
            "2863 this number is divisible by 7but are not a multiple of 5\n",
            "2877 this number is divisible by 7but are not a multiple of 5\n",
            "2884 this number is divisible by 7but are not a multiple of 5\n",
            "2891 this number is divisible by 7but are not a multiple of 5\n",
            "2898 this number is divisible by 7but are not a multiple of 5\n",
            "2912 this number is divisible by 7but are not a multiple of 5\n",
            "2919 this number is divisible by 7but are not a multiple of 5\n",
            "2926 this number is divisible by 7but are not a multiple of 5\n",
            "2933 this number is divisible by 7but are not a multiple of 5\n",
            "2947 this number is divisible by 7but are not a multiple of 5\n",
            "2954 this number is divisible by 7but are not a multiple of 5\n",
            "2961 this number is divisible by 7but are not a multiple of 5\n",
            "2968 this number is divisible by 7but are not a multiple of 5\n",
            "2982 this number is divisible by 7but are not a multiple of 5\n",
            "2989 this number is divisible by 7but are not a multiple of 5\n",
            "2996 this number is divisible by 7but are not a multiple of 5\n",
            "3003 this number is divisible by 7but are not a multiple of 5\n",
            "3017 this number is divisible by 7but are not a multiple of 5\n",
            "3024 this number is divisible by 7but are not a multiple of 5\n",
            "3031 this number is divisible by 7but are not a multiple of 5\n",
            "3038 this number is divisible by 7but are not a multiple of 5\n",
            "3052 this number is divisible by 7but are not a multiple of 5\n",
            "3059 this number is divisible by 7but are not a multiple of 5\n",
            "3066 this number is divisible by 7but are not a multiple of 5\n",
            "3073 this number is divisible by 7but are not a multiple of 5\n",
            "3087 this number is divisible by 7but are not a multiple of 5\n",
            "3094 this number is divisible by 7but are not a multiple of 5\n",
            "3101 this number is divisible by 7but are not a multiple of 5\n",
            "3108 this number is divisible by 7but are not a multiple of 5\n",
            "3122 this number is divisible by 7but are not a multiple of 5\n",
            "3129 this number is divisible by 7but are not a multiple of 5\n",
            "3136 this number is divisible by 7but are not a multiple of 5\n",
            "3143 this number is divisible by 7but are not a multiple of 5\n",
            "3157 this number is divisible by 7but are not a multiple of 5\n",
            "3164 this number is divisible by 7but are not a multiple of 5\n",
            "3171 this number is divisible by 7but are not a multiple of 5\n",
            "3178 this number is divisible by 7but are not a multiple of 5\n",
            "3192 this number is divisible by 7but are not a multiple of 5\n",
            "3199 this number is divisible by 7but are not a multiple of 5\n"
          ]
        }
      ]
    },
    {
      "cell_type": "code",
      "source": [
        "m = input('put a number')\n",
        "f=1\n",
        "for i in range(1, n+1):\n",
        "  f=f*i\n",
        "\n",
        "print(f)"
      ],
      "metadata": {
        "id": "CED0ek-eAcio",
        "outputId": "ab278efe-9736-4636-b49c-ca8b371a31d6",
        "colab": {
          "base_uri": "https://localhost:8080/"
        }
      },
      "execution_count": 35,
      "outputs": [
        {
          "output_type": "stream",
          "name": "stdout",
          "text": [
            "put a number5\n",
            "120\n"
          ]
        }
      ]
    },
    {
      "cell_type": "code",
      "source": [
        "GS = input(\"give us a string\")\n",
        "for x in range(len(GS)):\n",
        "     if x%2!=0:\n",
        "       print(GS[x])\n"
      ],
      "metadata": {
        "id": "89fBa2cNBtmY",
        "outputId": "995c12bd-1e16-4c3b-abe2-2ff14aa41aed",
        "colab": {
          "base_uri": "https://localhost:8080/"
        }
      },
      "execution_count": 38,
      "outputs": [
        {
          "output_type": "stream",
          "name": "stdout",
          "text": [
            "give us a stringhello team\n",
            "e\n",
            "l\n",
            " \n",
            "e\n",
            "m\n"
          ]
        }
      ]
    },
    {
      "cell_type": "code",
      "source": [
        "price = float(input(\"enter your price \"))\n",
        "if price <200 :\n",
        "  print(price - price/10)\n",
        "elif 200 <= price < 500:\n",
        "  print(price - price*30/100)\n",
        "elif price >= 500:\n",
        "  print(price - price*50/100)"
      ],
      "metadata": {
        "id": "WMBcNmMpD9e9",
        "outputId": "e69142ec-e4cd-4f13-ec86-04cd75d021b4",
        "colab": {
          "base_uri": "https://localhost:8080/"
        }
      },
      "execution_count": 43,
      "outputs": [
        {
          "output_type": "stream",
          "name": "stdout",
          "text": [
            "enter your price 600\n",
            "300.0\n"
          ]
        }
      ]
    }
  ]
}